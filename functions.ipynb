{
    "cells": [
        {
            "cell_type": "markdown",
            "id": "ec0d0355",
            "metadata": {},
            "source": [
                "# 3 Functions\n",
                "In the last two chapters, we've used some builtin Lua functions to perform certain tasks, like printing to the screen, reading user inputs, and certain mathematical operations such as absolute value. In this chapter, we will cover how functions actually work on the inside, and write some ourselves."
            ]
        },
        {
            "cell_type": "markdown",
            "id": "5b07c74a",
            "metadata": {},
            "source": [
                "## 3.1 What are Functions?\n",
                "\n",
                "Functions are blocks of code assigned to a name. Whenever a function is called, the code that makes up the function is run. Once that finishes, the computer will continue from the line right after the function call.\n",
                "\n",
                "We can create (or \"*declare*\") a function like this:\n",
                "```lua\n",
                "function greet()\n",
                "    print(\"Hello!\")\n",
                "end\n",
                "```\n",
                "This example function prints a out greeting. The `function` keyword tells Lua that the following code is going to be a function. We immediately follow it with the name of our new function (in this case, 'greet'). Just like when we use functions such as `print` or `math.abs`, the name in a function declaration is followed immediately by parenthesis. The name must follow all the same rules that variable names do (no spaces, can't start with a number, etc.). We'll worry about what's inside the parenthesis (in this case, nothing) a bit later. The `end` keyword on the last line of this example tells Lua that we are finished defining our function. Any code written after the `end` will not be part of our function.\n",
                "\n",
                "Using (or \"*calling*\") our `greet` function might look something like this:\n",
                "\n",
                "```lua\n",
                "a = 4 -- do some stuff\n",
                "greet() -- say hello\n",
                "b = a + 7 -- go back to doing stuff\n",
                "```\n",
                "\n",
                "The computer performs `a = 4`, then 'jumps' to the start of the code inside the `greet` function, executes that code, before finally jumping back to where it was before and continuing on (in this case, the next thing it does is `b = a + 17`). In this case, this is functionally identical to replacing the `greet()` with the code inside of the function (in this case, `print(\"Hello!\")`). In most programming languages, the system will decide whether to jump or replace based on which one is likely to be faster. Which of these the computer is actually doing in reality is not important to us, and either way of thinking is a perfectly valid way to figure out what the actual result of the code is going to be."
            ]
        },
        {
            "cell_type": "markdown",
            "id": "3ef30274",
            "metadata": {},
            "source": [
                "### Example 3.1: Greet function\n",
                "\n",
                "Here we create a function called \"greet\" that prints out a message. Then, we call the function. This works just like the greet function described above.\n",
                "\n",
                "If you like, you can try calling it again, changing the name of the function, or changing the message."
            ]
        },
        {
            "cell_type": "code",
            "execution_count": null,
            "id": "ba19dea9",
            "metadata": {},
            "outputs": [],
            "source": [
                "-- declaring the function\n",
                "function greet()\n",
                "    print(\"hello there!\")\n",
                "end\n",
                "\n",
                "-- calling the function\n",
                "greet()"
            ]
        },
        {
            "cell_type": "markdown",
            "id": "27df9183",
            "metadata": {},
            "source": [
                "### Exercise 3.1: Print a random number\n",
                "\n",
                "In this exercise, you will write a function that prints out a random number between 0 and 1. You can generate the number using `math.random()`, with nothing inside the parenthesis. Start by defining the function (feel free to name it whatever you like), and don't forget the `end` keyword! Then, write the code to print out the random number. Finally, call your function. Make sure to put the call *after* the definition!\n",
                "\n",
                "Here's an example `math.random()` in action. If you're having trouble, try just printing out the random number *without* the function, and try putting it into a function afterwards.\n",
                "\n",
                "```lua\n",
                "x = math.random() -- sets x to a random number between 0 and 1\n",
                "```"
            ]
        },
        {
            "cell_type": "code",
            "execution_count": null,
            "id": "ecd10d19",
            "metadata": {
                "trusted": true
            },
            "outputs": [],
            "source": [
                "-- define the function\n",
                "function print_random()\n",
                "    -- YOU: write your code here\n",
                "    print(math.random())\n",
                "end\n",
                "\n",
                "-- call the function\n",
                "print_random()"
            ]
        },
        {
            "cell_type": "markdown",
            "id": "20473ae6",
            "metadata": {},
            "source": [
                "## 3.2 Arguments\n",
                "\n",
                "All the functions we've written so far can only do one thing: the `greeting()` function can only print out one greeting, and the function you wrote in exercise 3.1 can only generate random numbers between 0 and 1. What if we want to use a different greeting some of the time?\n",
                "\n",
                "Just like variables in the last chapter, arguments can be used to make our code (in this case, our functions) more versatile. Here's an example:\n",
                "```lua\n",
                "function greet(message)\n",
                "    print(message)\n",
                "end\n",
                "\n",
                "greet(\"Salutations!\") -- will print out \"Salutations!\" without the quotes\n",
                "```\n",
                "In this example, we create a function that takes one argument: `message`. `message`, like all function arguments, is just a variable that we can set when we call the function. Specifically, it can be set when we use `greet` by putting the value we want to set it to in the parenthesis. `greet(\"Salutations!\")` will cause `message` to be set to `\"Salutations!\"` when the code inside of the function is run.\n",
                "\n",
                "Functions can take more than one argument. This `greet` example only takes one. If you try to pass two arguments to it, you'll get an error. However, we could create a version that takes two arguments.\n",
                "```lua\n",
                "function double_greet(message1, message2)\n",
                "    print(message1)\n",
                "    print(message2)\n",
                "end\n",
                "\n",
                "double_greet(\"Hello!\", \"It's nice to see you!\")\n",
                "```\n",
                "`double_greet` takes two arguments: `message1` and `message2`. In both the function definition and the function call, the arguments are separated by commas. If we wanted to add a third argument, we would just add another comma in the definition after `message2` and follow it with the name of this new argument, just like we did to add the second argument. In fact, our functions can have as many arguments as we want.\n",
                "\n",
                "```lua\n",
                "function many_arguments(x,y,z,w,i,j)\n",
                "    -- Imagine that some very useful code that uses all of these variables is right here.\n",
                "end\n",
                "```"
            ]
        },
        {
            "cell_type": "markdown",
            "id": "13a65a39",
            "metadata": {},
            "source": [
                "### Exercise 3.2: Random numbers in a range\n",
                "\n",
                "The `math.random` function actually *can* generate random numbers in a range. To do this, we can pass it two arguments:\n",
                "\n",
                "```lua\n",
                "x = math.random(1, 17)\n",
                "```\n",
                "\n",
                "The previous code will generate a random number between 1 and 17. Your task will be to update the `print_random` function from the previous exercise to allow for minimum and maximum values."
            ]
        },
        {
            "cell_type": "code",
            "execution_count": null,
            "id": "178dc5b2",
            "metadata": {
                "trusted": true
            },
            "outputs": [],
            "source": [
                "-- YOU: update this function to generate random numbers between a minimmum and maximum value\n",
                "function print_random()\n",
                "    print(math.random())\n",
                "end\n",
                "\n",
                "-- call the function (don't forget the pass in the minimum and maximum!)\n",
                "print_random()"
            ]
        },
        {
            "cell_type": "markdown",
            "id": "833ec934",
            "metadata": {},
            "source": [
                "## 3.3 Return Values\n",
                "\n",
                "Let's say we wanted to turn our freefall calculator from the last chapter into a function. For arguments, we would probably want to be able to take the initial displacement and acceleration due to gravity. But how would we get the result? This is where return values come into play. A `return` statement in Lua might look like this:\n",
                "\n",
                "```lua\n",
                "function seven()\n",
                "    return 7\n",
                "end\n",
                "```\n",
                "\n",
                "Here, we define a function called `seven` that will always evaluate to 7. If we were to run `x = seven()`, that would set x to 7. The return statement tells Lua what `seven` should evaluate to. It also tells Lua that our function is done running -- if we already know what it evaluates to, then surely the rest of the code in the function is irrelevant (this may not always be the case, but being able to decide when to break out of a function is useful).\n",
                "\n",
                "```lua\n",
                "function do_nothing()\n",
                "    return\n",
                "    print('hi') -- we will never get here\n",
                "end\n",
                "\n",
                "x = do_nothing()\n",
                "print(x) -- nil\n",
                "```\n",
                "\n",
                "As you already know, functions without a `return` work perfectly fine. They will simply run until reaching the `end`. However, we can use `return` even if we don't want to return a value. This can be seen in the `do_nothing` function, which simply has a `return` followed by nothing. `x = print_random()` will also set `x` to `nil` in much the same way because functions without any `return` statement will also return nothing.\n"
            ]
        },
        {
            "cell_type": "markdown",
            "id": "070c776d",
            "metadata": {},
            "source": [
                "### Example 3.2: Dice Roll\n",
                "\n",
                "Let's say we wanted to make a game that used dice. It would probably be convenient to have a function we can use for a simple dice roll so that we don't have to write code to do that over and over. This function, which we will name `roll`, should take no arguments and return a random integer between 1 and 6, inclusive. To do this, we will generate a random number and then return it."
            ]
        },
        {
            "cell_type": "code",
            "execution_count": 20,
            "id": "2dcca07f",
            "metadata": {},
            "outputs": [
                {
                    "name": "stdout",
                    "output_type": "stream",
                    "text": [
                        "1 \n"
                    ]
                }
            ],
            "source": [
                "function roll()\n",
                "    -- returns a random number between 1 and 6 inclusive\n",
                "    x = math.random(1, 6)\n",
                "    -- rounds to the nearest whole number \n",
                "    -- Lua doesn't have a round function, so we do this instead\n",
                "    x = math.floor(x + 0.5)\n",
                "\n",
                "    -- return the number\n",
                "    return x\n",
                "end\n",
                "\n",
                "-- use the function\n",
                "x = roll()\n",
                "print(x)\n",
                "\n",
                "-- this would also work\n",
                "-- print(roll())"
            ]
        },
        {
            "cell_type": "markdown",
            "id": "182ca152",
            "metadata": {},
            "source": [
                "### Exercise 3.3: Freefall Calculator Function\n",
                "\n",
                "Imagine you are making a game where the player has to land on the Moon. It might be helpful to be able to tell the player how long it will be before they land. We can once again use the equation $ t = \\sqrt{\\frac{2 \\cdot x}{a}} $ just like we did in the previous chapter.\n",
                "\n",
                "Here's a solution for that problem:"
            ]
        },
        {
            "cell_type": "code",
            "execution_count": 21,
            "id": "35ef6f71",
            "metadata": {},
            "outputs": [
                {
                    "name": "stdout",
                    "output_type": "stream",
                    "text": [
                        "Enter the height of the drop in meters: \n",
                        "Time for object to fall 2 meters: 1.5713484026368 seconds \n"
                    ]
                }
            ],
            "source": [
                "-- constants\n",
                "a = 1.62 -- acceleration due to gravity\n",
                "\n",
                "print(\"Enter the height of the drop in meters:\")\n",
                "-- ask the user for their input\n",
                "x = io.read()\n",
                "\n",
                "-- do the equation to calculate hang time\n",
                "t = math.sqrt((2*x) / a)\n",
                "\n",
                "-- for a 2 meter fall, t should be ~1.57\n",
                "print(\"Time for object to fall \" .. x .. \" meters: \" .. t .. \" seconds\")"
            ]
        },
        {
            "cell_type": "markdown",
            "id": "8db88299",
            "metadata": {},
            "source": [
                "You will write a function that does the same math, taking the displacement (`x` in the previous example) as an argument, and returning the time."
            ]
        },
        {
            "cell_type": "code",
            "execution_count": null,
            "id": "8d9418fd",
            "metadata": {},
            "outputs": [],
            "source": [
                "-- YOU: create a function called hang_time that takes the displacement and returns the time\n",
                "\n",
                "\n",
                "t = hang_time(2)\n",
                "print(t)"
            ]
        }
    ],
    "metadata": {
        "kernelspec": {
            "display_name": "Lua  (XLua)",
            "language": "lua",
            "name": "xlua"
        },
        "language_info": {
            "file_extension": ".lua",
            "mimetype": "text/x-luasrc",
            "name": "lua",
            "version": "14.0.0"
        }
    },
    "nbformat": 4,
    "nbformat_minor": 5
}
