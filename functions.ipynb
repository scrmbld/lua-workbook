{
 "cells": [
  {
   "cell_type": "markdown",
   "metadata": {},
   "source": [
    "# 3 Functions\n",
    "In the last two chapters, we've used some builtin Lua functions to perform certain tasks, like printing to the screen, reading user inputs, and certain mathematical operations such as absolute value. In this chapter, we will cover how functions actually work on the inside, and write some ourselves."
   ]
  },
  {
   "cell_type": "markdown",
   "metadata": {},
   "source": [
    "## 3.1 What are Functions?\n",
    "\n",
    "Functions are blocks of code assigned to a name. Whenever a function is called, the code that makes up the function is run. Once that finishes, the computer will continue from the line right after the function call.\n",
    "\n",
    "We can create (or \"*declare*\") a function like this:\n",
    "```lua\n",
    "function greet()\n",
    "    print(\"Hello!\")\n",
    "end\n",
    "```\n",
    "This example function prints a out greeting. The `function` keyword tells Lua that the following code is going to be a function. We immediately follow it with the name of our new function (in this case, 'greet'). Just like when we use functions such as `print` or `math.abs`, the name in a function declaration is followed immediately by parenthesis. The name must follow all the same rules that variable names do (no spaces, can't start with a number, etc.). We'll worry about what's inside the parenthesis (in this case, nothing) a bit later. The `end` keyword on the last line of this example tells Lua that we are finished defining our function. Any code written after the `end` will not be part of our function.\n",
    "\n",
    "Using (or \"*calling*\") our `greet` function might look something like this:\n",
    "```lua\n",
    "a = 4 -- do some stuff\n",
    "greet() -- say hello\n",
    "b = a + 7 -- go back to doing stuff\n",
    "```\n",
    "\n",
    "The computer performs `a = 4`, then 'jumps' to the start of the code inside the `greet` function, executes that code, before finally jumping back to where it was before and continuing on (in this case, the next thing it does is `b = a + 17`). In this case, this is functionally identical to replacing the `greet()` with the code inside of the function (in this case, `print(\"Hello!\")`). In most programming languages, the system will decide whether to jump or replace based on which one is likely to be faster. Which of these the computer is actually doing in reality is not important to us, and either way of thinking is a perfectly valid way to figure out what the actual result of the code is going to be."
   ]
  },
  {
   "cell_type": "markdown",
   "metadata": {},
   "source": [
    "### Example 3.1: Greet function\n",
    "\n",
    "Here we create a function called \"greet\" that prints out a message. Then, we call the function. This works just like the greet function described above.\n",
    "\n",
    "If you like, you can try calling it again, changing the name of the function, or changing the message."
   ]
  },
  {
   "cell_type": "code",
   "execution_count": 1,
   "metadata": {},
   "outputs": [
    {
     "name": "stdout",
     "output_type": "stream",
     "text": [
      "hello there! \n"
     ]
    }
   ],
   "source": [
    "-- declaring the function\n",
    "function greet()\n",
    "    print(\"hello there!\")\n",
    "end\n",
    "\n",
    "-- calling the function\n",
    "greet()"
   ]
  },
  {
   "cell_type": "markdown",
   "metadata": {},
   "source": [
    "### Exercise 3.1: Print a random number\n",
    "\n",
    "In this exercise, you will write a function that prints out a random number between 0 and 1. You can generate the number using `math.random()`, with nothing inside the parenthesis. Start by defining the function (feel free to name it whatever you like), and don't forget the `end` keyword! Then, write the code to print out the random number. Finally, call your function. Make sure to put the call *after* the definition!\n",
    "\n",
    "Here's an example `math.random()` in action. If you're having trouble, try just printing out the random number *without* the function, and try putting it into a function afterwards.\n",
    "\n",
    "```lua\n",
    "x = math.random() -- sets x to a random number between 0 and 1\n",
    "```"
   ]
  },
  {
   "cell_type": "code",
   "execution_count": 2,
   "metadata": {},
   "outputs": [
    {
     "name": "stdout",
     "output_type": "stream",
     "text": [
      "0.81604821406587 \n"
     ]
    }
   ],
   "source": [
    "-- define the function\n",
    "function print_random()\n",
    "    -- YOU: write your code here\n",
    "    print(math.random())\n",
    "end\n",
    "\n",
    "-- call the function\n",
    "print_random()"
   ]
  },
  {
   "cell_type": "markdown",
   "metadata": {},
   "source": [
    "## 3.2: Arguments\n",
    "\n",
    "All the functions we've written so far can only do one thing: the `greeting()` function can only print out one greeting, and the function you wrote in exercise 3.1 can only generate random numbers between 0 and 1. What if we want to use a different greeting some of the time?\n",
    "\n",
    "Just like variables in the last chapter, arguments can be used to make our code (in this case, our functions) more versatile. Here's an example:\n",
    "```lua\n",
    "function greet(message)\n",
    "    print(message)\n",
    "end\n",
    "\n",
    "greet(\"Salutations!\") -- will print out \"Salutations!\" without the quotes\n",
    "```\n",
    "In this example, we create a function that takes one argument: `message`. `message`, like all function arguments, is just a variable that we can set when we call the function. Specifically, it can be set when we use `greet` by putting the value we want to set it to in the parenthesis. `greet(\"Salutations!\")` will cause `message` to be set to `\"Salutations!\"` when the code inside of the function is run.\n",
    "\n",
    "Functions can take more than one argument. This `greet` example only takes one. If you try to pass two arguments to it, you'll get an error. However, we could create a version that takes two arguments.\n",
    "```lua\n",
    "function double_greet(message1, message2)\n",
    "    print(message1)\n",
    "    print(message2)\n",
    "end\n",
    "\n",
    "double_greet(\"Hello!\", \"It's nice to see you!\")\n",
    "```\n",
    "`double_greet` takes two arguments: `message1` and `message2`. In both the function definition and the function call, the arguments are separated by commas. If we wanted to add a third argument, we would just add another comma in the definition after `message2` and follow it with the name of this new argument, just like we did to add the second argument. In fact, our functions can have as many arguments as we want.\n",
    "\n",
    "```lua\n",
    "function many_arguments(x,y,z,w,i,j)\n",
    "    -- Imagine that some very useful code that uses all of these variables is right here.\n",
    "end\n",
    "```"
   ]
  },
  {
   "cell_type": "markdown",
   "metadata": {},
   "source": [
    "### Exercise 3.2: Random numbers in a range\n",
    "\n",
    "The `math.random` function actually *can* generate random numbers in a range. To do this, we can pass it two arguments:\n",
    "\n",
    "```lua\n",
    "x = math.random(1, 17)\n",
    "```\n",
    "\n",
    "The previous code will generate a random number between 1 and 17. Your task will be to update the `print_random` function from the previous exercise to allow for minimum and maximum values."
   ]
  },
  {
   "cell_type": "code",
   "execution_count": null,
   "metadata": {},
   "outputs": [],
   "source": [
    "-- YOU: update this function to generate random numbers between a minimmum and maximum value\n",
    "function print_random()\n",
    "    print(math.random())\n",
    "end\n",
    "\n",
    "-- call the function (don't forget the pass in the minimum and maximum!)\n",
    "print_random()"
   ]
  },
  {
   "cell_type": "markdown",
   "metadata": {},
   "source": [
    "## 3.3 Scope, Variables, and Arguments\n",
    "\n",
    "You might still have some questions about variables, arguments, and functions. Can functions use variables from outside of their definitions? What if an argument has the same name as an existing variable? All of these questions can be answered by understanding scope.\n",
    "\n",
    "\"Scope\" is a concept in programming that defines what parts of the program can access certain variables. This is important because in very large programs it would quickly become confusing if every variable could be accessed by any part of the program. An extremely large codebase could contain thousands or tens of thousands of variables. If every single one had to have a unique name, you would quickly run out of reasonable names. Plus, variables that do similar things in different parts of the code would end up being mixed up a lot.\n",
    "\n",
    "Scope puts limits on where variables can be read from. This means that we can re-use names and are less likely to confuse the things we're working on now with stuff in other parts of the code. It also defines what happens when there are naming conflicts (i.e., two things have the same name).\n",
    "\n",
    "In this chapter, we'll mostly cover how scope is relevant to functions. We'll talk about scope more when we cover splitting our programs into multiple files."
   ]
  },
  {
   "cell_type": "markdown",
   "metadata": {},
   "source": [
    "### Example 3.2: Accessing a variable defined outside of the function\n",
    "\n",
    "In this example, we start by defining a variable, called `message`, and then define a function that takes no arguments containing the code `print(message)`. Can code inside of a function access variables from outside of it?"
   ]
  },
  {
   "cell_type": "code",
   "execution_count": 12,
   "metadata": {},
   "outputs": [
    {
     "name": "stdout",
     "output_type": "stream",
     "text": [
      "hi there! \n"
     ]
    }
   ],
   "source": [
    "message = \"hi there!\"\n",
    "function greet()\n",
    "    print(message)\n",
    "end\n",
    "\n",
    "greet()"
   ]
  },
  {
   "cell_type": "markdown",
   "metadata": {},
   "source": [
    "The function priints out `message` successfully. This shows that code inside of functions can access variables from elsewhere in the program."
   ]
  },
  {
   "cell_type": "markdown",
   "metadata": {},
   "source": [
    "### Example 3.3: Setting variables in functions"
   ]
  },
  {
   "cell_type": "code",
   "execution_count": 3,
   "metadata": {},
   "outputs": [
    {
     "name": "stdout",
     "output_type": "stream",
     "text": [
      "Hi :) \n",
      "Welcome! \n"
     ]
    }
   ],
   "source": [
    "-- what do you think the output of this function will be?\n",
    "function greet(message)\n",
    "    print(message)\n",
    "    message = \"Welcome!\"\n",
    "    print(message)\n",
    "end\n",
    "\n",
    "greet(\"Hi :)\")"
   ]
  },
  {
   "cell_type": "markdown",
   "metadata": {},
   "source": [
    "In the previous function, we print out `message` (our one and only argument), set message to something else, and then print it again. As you can see, we can overwrite `message` to our heart's content, as long as we do it inside of the function. The value in the parenthesis when we call the function only determines the *initial* value of `message`.\n",
    "\n",
    "Now let's try setting the `message` value from outside of the function:"
   ]
  },
  {
   "cell_type": "code",
   "execution_count": 9,
   "metadata": {},
   "outputs": [
    {
     "name": "stdout",
     "output_type": "stream",
     "text": [
      "hello \n"
     ]
    }
   ],
   "source": [
    "-- what if we set message outside of the function?\n",
    "message = \"hi there!\"\n",
    "\n",
    "function greet(message)\n",
    "    print(message)\n",
    "end\n",
    "\n",
    "greet(\"hello\")"
   ]
  },
  {
   "cell_type": "code",
   "execution_count": 10,
   "metadata": {},
   "outputs": [
    {
     "name": "stdout",
     "output_type": "stream",
     "text": [
      "hello \n"
     ]
    }
   ],
   "source": [
    "-- how about after the definition?\n",
    "\n",
    "function greet(message)\n",
    "    print(message)\n",
    "end\n",
    "\n",
    "message = \"hi there!\"\n",
    "greet(\"hello\")"
   ]
  },
  {
   "cell_type": "markdown",
   "metadata": {},
   "source": [
    "In both of these examples, we define a variable called `message` in *global scope*. That means that it's defined outside of any functions. We then create a function that takes an argument by the same name. As long as we set message outside of the function, it won't affect the code inside of the function, because the argument takes priority over the variable. Does this mean that passing the argument overwrites the value of our globally scoped `message`?"
   ]
  },
  {
   "cell_type": "code",
   "execution_count": 13,
   "metadata": {},
   "outputs": [
    {
     "name": "stdout",
     "output_type": "stream",
     "text": [
      "hello \n",
      "hi there! \n"
     ]
    }
   ],
   "source": [
    "message = \"hi there!\"\n",
    "\n",
    "function greet(message)\n",
    "    print(message)\n",
    "end\n",
    "\n",
    "greet(\"hello\")\n",
    "print(message)"
   ]
  },
  {
   "cell_type": "markdown",
   "metadata": {},
   "source": [
    "This example shows that the value of the `message` variable from outside of the function is *not* changed when we pass the `message` argument to our function.\n",
    "\n",
    "It's time for some further experiements: what if we set `message` inside of the function?"
   ]
  },
  {
   "cell_type": "code",
   "execution_count": 7,
   "metadata": {},
   "outputs": [
    {
     "name": "stdout",
     "output_type": "stream",
     "text": [
      "hi there! \n",
      "hello \n",
      "hi there! \n"
     ]
    }
   ],
   "source": [
    "message = \"hi there!\"\n",
    "\n",
    "function greet(message)\n",
    "    print(message)\n",
    "    message = \"salutations!\"\n",
    "end\n",
    "\n",
    "print(message)\n",
    "greet(\"hello\")\n",
    "print(message)"
   ]
  },
  {
   "cell_type": "markdown",
   "metadata": {},
   "source": [
    "In this example, we once agian create a `message` variable in \"global scope\" and define a function with an argument that is also called `message`. Here, we see that setting `message` inside of the function *does not* change the value of the globally scoped `message` variable."
   ]
  },
  {
   "cell_type": "code",
   "execution_count": 8,
   "metadata": {},
   "outputs": [
    {
     "name": "stdout",
     "output_type": "stream",
     "text": [
      "hi there! \n",
      "hello \n",
      "salutations! \n"
     ]
    }
   ],
   "source": [
    "message = \"hi there!\"\n",
    "\n",
    "function greet(greeting)\n",
    "    print(greeting)\n",
    "    message = \"salutations!\"\n",
    "end\n",
    "\n",
    "print(message)\n",
    "greet(\"hello\")\n",
    "print(message)"
   ]
  },
  {
   "cell_type": "markdown",
   "metadata": {},
   "source": [
    "This example is the same as the one before, except that the argument to `greet` has a different name: `greeting`. In this instance, setting `message` inside of the function *does* change the value of `message`. What is going on here?"
   ]
  }
 ],
 "metadata": {
  "kernelspec": {
   "display_name": "Lua  (XLua)",
   "language": "lua",
   "name": "xlua"
  },
  "language_info": {
   "file_extension": ".lua",
   "mimetype": "text/x-luasrc",
   "name": "lua",
   "version": "14.0.0"
  }
 },
 "nbformat": 4,
 "nbformat_minor": 2
}
