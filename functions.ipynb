{
 "cells": [
  {
   "cell_type": "markdown",
   "metadata": {},
   "source": [
    "# 3 Functions\n",
    "In the last two chapters, we've used some builtin Lua functions to perform certain tasks, like printing to the screen, reading user inputs, and certain mathematical operations such as absolute value. In this chapter, we will cover how functions actually work on the inside, and write some ourselves."
   ]
  },
  {
   "cell_type": "markdown",
   "metadata": {},
   "source": [
    "## 3.1 What are Functions?\n",
    "\n",
    "Functions are blocks of code assigned to a name. Whenever a function is called, the code that makes up the function is run. Once that finishes, the computer will continue from the line right after the function call.\n",
    "\n",
    "We can create (or *declare*) a function like this:\n",
    "```lua\n",
    "function greet()\n",
    "    print(\"Hello!\")\n",
    "end\n",
    "```\n",
    "This example function prints a out greeting. The `function` keyword tells Lua that the following code is going to be a function. We immediately follow it with the name of our new function (in this case, 'greet'). Just like when we use functions such as `print` or `math.abs`, the name in a function declaration is followed immediately by parenthesis. The name must follow all the same rules that variable names do (no spaces, can't start with a number, etc.). We'll worry about what's inside the parenthesis (in this case, nothing) a bit later. The `end` keyword on the last line of this example tells Lua that we are finished defining our function. Any code written after the `end` will not be part of our function.\n",
    "\n",
    "Using (also called 'calling') our `greet` function might look something like this:\n",
    "```lua\n",
    "a = 4 -- do some stuff\n",
    "greet() -- say hello\n",
    "b = a + 7 -- go back to doing stuff\n",
    "```\n",
    "\n",
    "The computer performs `a = 4`, then 'jumps' to the start of the code inside the `greet` function, executes that code, and finally the computer jumps back to where it was before and continues with `b = a + 17`. In this case, this is functionally identical to replacing the `greet()` with the code inside of the function (in this case, `print(\"Hello!\")`). In most programming languages, the system will decide whether to jump or replace based on which one is likely to be faster. Which of these the computer is actually doing in reality is not important to us, and either way of thinking is a perfectly valid way to figure out what the actual result of the code is going to be."
   ]
  },
  {
   "cell_type": "markdown",
   "metadata": {},
   "source": [
    "### Example 3.1: Greet function\n",
    "\n",
    "Here we create a function called \"greet\" that prints out a message. Then, we call the function. This works just like the greet function described above.\n",
    "\n",
    "If you like, you can try calling it again, changing the name of the function, or changing the message."
   ]
  },
  {
   "cell_type": "code",
   "execution_count": 2,
   "metadata": {},
   "outputs": [
    {
     "name": "stdout",
     "output_type": "stream",
     "text": [
      "hello there! \n"
     ]
    }
   ],
   "source": [
    "-- declaring the function\n",
    "function greet()\n",
    "    print(\"hello there!\")\n",
    "end\n",
    "\n",
    "-- calling the function\n",
    "greet()"
   ]
  },
  {
   "cell_type": "markdown",
   "metadata": {},
   "source": [
    "### Exercise 3.1: Print a random number\n",
    "\n",
    "In this exercise, you will write a function that prints out a random number between 0 and 1. You can generate the number using `math.random()`, with nothing inside the parenthesis. Start by defining the function (feel free to name it whatever you like), and don't forget the `end` keyword! Then, write the code to print out the random number. Finally, call your function. Make sure to put the call *after* the definition!\n",
    "\n",
    "Here's an example `math.random()` in action. If you're having trouble, try just printing out the random number *without* the function, and try putting it into a function afterwards.\n",
    "```lua\n",
    "x = math.random() -- sets x to a random number between 0 and 1\n",
    "```"
   ]
  },
  {
   "cell_type": "code",
   "execution_count": 2,
   "metadata": {},
   "outputs": [
    {
     "name": "stdout",
     "output_type": "stream",
     "text": [
      "0.98237828829295 \n"
     ]
    }
   ],
   "source": [
    "-- define the function\n",
    "function print_random()\n",
    "    print(math.random())\n",
    "end\n",
    "\n",
    "-- call the function\n",
    "print_random()"
   ]
  },
  {
   "cell_type": "markdown",
   "metadata": {},
   "source": [
    "## 3.2: Arguments\n",
    "\n",
    "All the functions we've written so far can only do one thing: the `greeting()` function can only print out one greeting, and the function you wrote in exercise 3.1 can only generate random numbers between 0 and 1. What if we want to use a different greeting some of the time?\n",
    "\n",
    "Just like variables in the last chapter, arguments can be used to make our code (in this case, our functions) more versatile. Here's an example:\n",
    "```lua\n",
    "function greet(message)\n",
    "    print(message)\n",
    "end\n",
    "\n",
    "greet(\"Salutations!\") -- will print out \"Salutations!\" without the quotes\n",
    "```\n",
    "In this example, we create a function that takes one argument: `message`. `message`, like all function arguments, is just a variable that we can set *outside* the function definition. Specifically, it can be set when we use `greet` by putting the value we want to set it to in the parenthesis. `greet(\"Salutations!\")` will cause `message` to be set to \"Salutations!\" when the code inside of the function is run.\n",
    "\n",
    "Functions can take more than one argument. This `greet` example only takes one. If you try to pass two arguments, you'll get an error. However, we could create a version that takes two arguments.\n",
    "```lua\n",
    "function double_greet(message1, message2)\n",
    "    print(message1)\n",
    "    print(message2)\n",
    "end\n",
    "\n",
    "double_greet(\"Hello!\", \"It's nice to see you!\")\n",
    "```\n",
    "`double_greet` takes two arguments: `message1` and `message2`. In both the function definition and the function call, the arguments are separated by commas. If we wanted to add a third argument, we would just add another comma in the definition after `message2` and follow it with the name of this new argument, just like we did to add the second argument. In fact we can have as many arguments as we want.\n",
    "```lua\n",
    "function many_arguments(x,y,z,w,i,j)\n",
    "    -- Imagine that some very useful code that uses all of these variables is right here.\n",
    "end\n",
    "```"
   ]
  },
  {
   "cell_type": "markdown",
   "metadata": {},
   "source": [
    "### Example 3.2: Arguments Galore!"
   ]
  },
  {
   "cell_type": "code",
   "execution_count": 3,
   "metadata": {},
   "outputs": [
    {
     "name": "stdout",
     "output_type": "stream",
     "text": [
      "Hi :) \n",
      "Welcome! \n"
     ]
    }
   ],
   "source": [
    "-- what do you think the output of this function will be?\n",
    "function greet(message)\n",
    "    print(message)\n",
    "    message = \"Welcome!\"\n",
    "    print(message)\n",
    "end\n",
    "\n",
    "greet(\"Hi :)\")"
   ]
  },
  {
   "cell_type": "markdown",
   "metadata": {},
   "source": [
    "In the previous function, we print out `message` (our one and only argument), set message to something else, and then print it again. As you can see, we can set `message` to our heart's content, as long as we do it inside of the function. The value in the parenthesis when we call the function only determines the *initial* value of `message`.\n",
    "\n",
    "Now let's try setting the `message` value from outside of the function."
   ]
  },
  {
   "cell_type": "code",
   "execution_count": 5,
   "metadata": {},
   "outputs": [
    {
     "name": "stdout",
     "output_type": "stream",
     "text": [
      "hello \n"
     ]
    }
   ],
   "source": [
    "-- what if we set message outside of the function?\n",
    "message = \"hi there!\"\n",
    "\n",
    "function greet(message)\n",
    "    print(message)\n",
    "end\n",
    "\n",
    "greet(\"hello\")"
   ]
  },
  {
   "cell_type": "code",
   "execution_count": 6,
   "metadata": {},
   "outputs": [
    {
     "name": "stdout",
     "output_type": "stream",
     "text": [
      "hello \n"
     ]
    }
   ],
   "source": [
    "-- how about after the definition?\n",
    "\n",
    "function greet(message)\n",
    "    print(message)\n",
    "end\n",
    "\n",
    "message = \"hi there!\"\n",
    "greet(\"hello\")"
   ]
  },
  {
   "cell_type": "markdown",
   "metadata": {},
   "source": [
    "In both of these examples, "
   ]
  },
  {
   "cell_type": "markdown",
   "metadata": {},
   "source": []
  }
 ],
 "metadata": {
  "kernelspec": {
   "display_name": "Lua  (XLua)",
   "language": "lua",
   "name": "xlua"
  },
  "language_info": {
   "file_extension": ".lua",
   "mimetype": "text/x-luasrc",
   "name": "lua",
   "version": "14.0.0"
  }
 },
 "nbformat": 4,
 "nbformat_minor": 2
}
