{
    "cells": [
        {
            "cell_type": "markdown",
            "id": "a1be856d",
            "metadata": {},
            "source": [
                "TODO: go over how jupyter notebooks work"
            ]
        },
        {
            "cell_type": "markdown",
            "id": "b5f7bb84",
            "metadata": {},
            "source": [
                "# 1.1 Hello World\n",
                "\n",
                "Let's get started with an ancient programming tradition: Hello Word! We're going to get the computer to say 'hello'. This lets us know that we've set up lua corrrectly.\n",
                "\n",
                "Nearly all programming languages have some way to print text to the screen. In lua, we do this using the `print` function. We'll learn more about what functions are and how they work later, but for now, all you need to know is that if you write `print()`, and put a message in quotation marks between the parenthesis, it will print that message (without the quotes) to the output.\n"
            ]
        },
        {
            "cell_type": "markdown",
            "id": "4278f18a",
            "metadata": {},
            "source": [
                "### Example: This code will print \"Hello World\" (without the quotation marks) to the output.\n",
                "```lua\n",
                "print(\"Hello World!\")\n",
                "\n",
                "-- this also works\n",
                "print('Hello World!')\n",
                "\n",
                "-- this also also works, but is really bad practice because it can be hard to read\n",
                "print (\"Hello World!\")\n",
                "```"
            ]
        },
        {
            "cell_type": "markdown",
            "id": "63d6b08e",
            "metadata": {},
            "source": [
                "### Exercise 1.1: Say Hello!\n",
                "Write code that prints out a message of your choice based on the example above. Try doing this with a few different messages."
            ]
        },
        {
            "cell_type": "code",
            "execution_count": null,
            "id": "f5d7dce6",
            "metadata": {
                "trusted": true
            },
            "outputs": [],
            "source": []
        },
        {
            "cell_type": "markdown",
            "id": "26f44cd2",
            "metadata": {},
            "source": [
                "TODO: talk about comments? maybe we should do this later? maybe earlier?"
            ]
        },
        {
            "cell_type": "markdown",
            "id": "1f7d20db",
            "metadata": {},
            "source": [
                "That's it! You're ready to move on to learning Lua proper. In the next section, we'll cover math operations and variables."
            ]
        }
    ],
    "metadata": {
        "kernelspec": {
            "display_name": "Lua  (XLua)",
            "language": "lua",
            "name": "xlua"
        },
        "language_info": {
            "file_extension": ".lua",
            "mimetype": "text/x-luasrc",
            "name": "lua",
            "version": "14.0.0"
        }
    },
    "nbformat": 4,
    "nbformat_minor": 5
}
