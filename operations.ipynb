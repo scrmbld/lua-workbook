{
 "cells": [
  {
   "cell_type": "markdown",
   "metadata": {},
   "source": [
    "# 2. Arithmetic in Lua\n",
    "\n",
    "In this section we will cover how to perform basic mathematical operations, such as addition, subtraction, multiplication, and division. We will also introduce variables in order to solve some simple real-world (ish) problems. Finally, we'll cover how to read inputs from the user so that we can make programs that other people can use without having to look at the code."
   ]
  },
  {
   "cell_type": "markdown",
   "metadata": {},
   "source": [
    "## 2.1 Basic Operators\n",
    "\n",
    "In lua, we can solve basic math problems in much the same way that you would with a calculator. Addition and subtraction use the `+` and `-` signs, as you would expect. Division uses `/`. Multiplication, however, is a bit different -- it uses the `*` symbol. Since `x` is a letter, it would be very confusing if we used it in words and for multiplication. Hence, we use `*` instead. Finally, exponents use `^`. There are a couple other, more unfamiliar arithmetic operations in Lua, but we'll cover those later in this chapter.\n",
    "\n",
    "Most programming languages use these same symbols in exactly the same way, so don't worry, you only have to learn it once!\n",
    "\n",
    "Addition: `3 + 2` is equal to `5`  \n",
    "Subtraction: `3 - 2` is equal to `1`  \n",
    "Multiplication: `3 * 2` is equal to `6`  \n",
    "Division: `3 / 2` is equal to `1.5`  \n",
    "Exponentiation: `3^2` is equal to `9.0`"
   ]
  },
  {
   "cell_type": "markdown",
   "metadata": {},
   "source": [
    "### Example 2.1: Arithmetic\n",
    "Try running the example code below. Notice how numbers can be printed without the quotation marks. In fact, to do math, the numbers *must* be written without quotation marks, otherwise Lua will not interpret them as mathematical expressions."
   ]
  },
  {
   "cell_type": "code",
   "execution_count": 25,
   "metadata": {},
   "outputs": [
    {
     "name": "stdout",
     "output_type": "stream",
     "text": [
      "5 \n",
      "addition: \n",
      "5 \n",
      "5 \n",
      "subtraction: \n",
      "1 \n",
      "multiplication \n",
      "6 \n",
      "division \n",
      "1.5 \n",
      "exponent \n",
      "9.0 \n"
     ]
    }
   ],
   "source": [
    "-- we can print numbers in the same way that we print messages, just without the quotes\n",
    "print(5)\n",
    "\n",
    "-- let's do some math\n",
    "print(\"addition:\")\n",
    "print(3 + 2)\n",
    "-- for all of these operations, the spaces are optional\n",
    "print(3+2) -- the same as 3 + 2\n",
    "-- most people find the code easier to read when there are spaces, so most of the examples here will include them\n",
    "-- this is ultimately a matter of preference, so do whatever you feel!\n",
    "\n",
    "print(\"subtraction:\")\n",
    "print(3 - 2)\n",
    "\n",
    "print(\"multiplication\")\n",
    "print(3 * 2)\n",
    "\n",
    "print(\"division\")\n",
    "print(3 / 2)\n",
    "\n",
    "print(\"exponent\")\n",
    "print(3^2)"
   ]
  },
  {
   "cell_type": "code",
   "execution_count": 26,
   "metadata": {},
   "outputs": [
    {
     "name": "stdout",
     "output_type": "stream",
     "text": [
      "3 + 2 \n",
      "\n"
     ]
    }
   ],
   "source": [
    "-- here's what happens if we put the numbers inside of quotes\n",
    "print(\"3 + 2\")"
   ]
  },
  {
   "cell_type": "markdown",
   "metadata": {},
   "source": [
    "### Exercise 2.1: Do some math!\n",
    "\n",
    "Write code to answer the following questions -- solve the problem and print the answer to the output! The first one is done for you."
   ]
  },
  {
   "cell_type": "code",
   "execution_count": 27,
   "metadata": {},
   "outputs": [
    {
     "name": "stdout",
     "output_type": "stream",
     "text": [
      "3 \n"
     ]
    }
   ],
   "source": [
    "-- Compute the difference between 7 and 4\n",
    "-- should be equal to 3\n",
    "print(7 - 4) -- notice that there are no quotation marks!"
   ]
  },
  {
   "cell_type": "code",
   "execution_count": 28,
   "metadata": {},
   "outputs": [
    {
     "name": "stdout",
     "output_type": "stream",
     "text": [
      "18 \n",
      "\n"
     ]
    }
   ],
   "source": [
    "-- Compute the sum of 8 and 10\n",
    "-- should be equal to 18\n",
    "print(8 + 10)"
   ]
  },
  {
   "cell_type": "code",
   "execution_count": 29,
   "metadata": {},
   "outputs": [
    {
     "name": "stdout",
     "output_type": "stream",
     "text": [
      "4.0 \n",
      "\n"
     ]
    }
   ],
   "source": [
    "-- Compute 100 divided by 25\n",
    "-- should be equal to 4\n",
    "print(100 / 25)"
   ]
  },
  {
   "cell_type": "code",
   "execution_count": 30,
   "metadata": {},
   "outputs": [
    {
     "name": "stdout",
     "output_type": "stream",
     "text": [
      "128 \n",
      "\n"
     ]
    }
   ],
   "source": [
    "-- Compute the product of 32 and 4\n",
    "-- should be equal to 128\n",
    "print(32*4)"
   ]
  },
  {
   "cell_type": "code",
   "execution_count": 31,
   "metadata": {},
   "outputs": [
    {
     "name": "stdout",
     "output_type": "stream",
     "text": [
      "125.0 \n",
      "\n"
     ]
    }
   ],
   "source": [
    "-- compute 5 to the third power\n",
    "-- should be 125\n",
    "print(5^3)"
   ]
  },
  {
   "cell_type": "markdown",
   "metadata": {},
   "source": [
    "## 2.2 Order of Operations\n",
    "\n",
    "We might want to solve problems that involve multiple arithmetic operations, such as $ 2 \\cdot 3 + 7$ or $ 2 \\cdot (3 + 7) $. To do this, we need to perform the operations in the correct order. When we do arithmetic by hand, we follow PEMDAS: **P**arenthesis **E**xponent **M**ultiplication **D**ivision **A**ddition **S**ubtraction. Order of operations in Lua is the same way. Exponents are done before multiplication and division, and those are done before addition and subtraction. We can force certain operations or sets of operations to be done sooner by putting them in parenthesis."
   ]
  },
  {
   "cell_type": "markdown",
   "metadata": {},
   "source": [
    "### Example 2.2: Order of operations"
   ]
  },
  {
   "cell_type": "code",
   "execution_count": 32,
   "metadata": {},
   "outputs": [
    {
     "name": "stdout",
     "output_type": "stream",
     "text": [
      "13 \n"
     ]
    }
   ],
   "source": [
    "-- following PEMDAS, this should be 13\n",
    "2*3 + 7"
   ]
  },
  {
   "cell_type": "code",
   "execution_count": 33,
   "metadata": {},
   "outputs": [
    {
     "name": "stdout",
     "output_type": "stream",
     "text": [
      "20 \n"
     ]
    }
   ],
   "source": [
    "-- what if we want to do the addition first?\n",
    "-- just put it in parenthesis\n",
    "-- should be 20\n",
    "2*(3 + 7)"
   ]
  },
  {
   "cell_type": "markdown",
   "metadata": {},
   "source": [
    "### Exercise 2.2: Order of operations practice\n",
    "\n",
    "Here we have an example of a mathematical expression. You will need to first understand the order of operations, and then change them to acheive a certain result. Remember how we can force certain parts of an expression to be calculated first?"
   ]
  },
  {
   "cell_type": "code",
   "execution_count": 34,
   "metadata": {},
   "outputs": [
    {
     "name": "stdout",
     "output_type": "stream",
     "text": [
      "78.0 \n",
      "132.0 \n"
     ]
    }
   ],
   "source": [
    "-- here's some random expression\n",
    "print(3^3 + 17 * 3)\n",
    "-- YOU: there are three operations in this expression. List them in the order that they are performed.\n",
    "-- 1.\n",
    "-- 2.\n",
    "-- 3.\n",
    "\n",
    "-- YOU: replace the nil in the following line with a version of 3^3 + 17 * 3 \n",
    "-- where the addition is done after the exponent and before the multiplication\n",
    "print((3^3 + 17) * 3) -- should be 132"
   ]
  },
  {
   "cell_type": "markdown",
   "metadata": {},
   "source": [
    "## 2.3 Variables\n",
    "\n",
    "Great! Addition, subtraction, multiplication, and division allow us to solve tons of different problems. But there are serious limitations to what we've been doing so far. \n",
    "\n",
    "First, our program can only use the *exact* numbers that we, the programmer, type in. For example, let's say you wanted to calculate how much [Jonathan the Seychelles giant tortoise ](https://en.wikipedia.org/wiki/Jonathan_(tortoise)) would be on the moon. Jonathan weighs around 400 pounds on Earth, and the Moon has around 1/6 the gravity of Earth. So Jonathan would weigh 400*(1/6) pounds on the Moon. But what if we wanted to know how heavy [Harriet the Galapagos Tortoise](https://en.wikipedia.org/wiki/Harriet_(tortoise)) would be on the moon? Right now, in order to solve this problem, it would be necessary to manually edit the code. This works, but is not great if we want our programs to be useable by other people. Since tortoises can vary in weight, but the Moon's gravity probably isn't going to change anytime soon, it would be really convenient if we could write a program that could calculate the wieght of *any* tortoise at 1/6 Earth's gravity. For more complicated problems, we might want to save a value computed in one part of our program so that we can use it in another. Variables can solve both of these problems.\n",
    "\n",
    "Variables are like little boxes with labels on them that hold data. There are many data types that variables can store, but for now, just think of them as holding individual numbers. We put values into variables using the `=` operator. The left hand side is the name of the box, and the right hand side is the value that we are going to place in it. If a name hasn't been used yet, Lua will automatically make a new \"box\" for us and put our value inside. If the name has been used before, the value that's already inside the box will be replaced (or \"overwritten\") with the new one.\n",
    "\n",
    "Variables can be used with any function (like `print`) or operation (like `+` or `*`) that the value inside can be used with. These will work exactly as if you had written the variable's value instead of its name."
   ]
  },
  {
   "cell_type": "markdown",
   "metadata": {},
   "source": [
    "### Example 2.3: using variables to calculate Jonathan's weight on the Moon\n",
    "\n",
    "We've already talked about an equation that can calculate the wieght of on object on the Moon (that is, if we know its weight on Earth). We simply multiply the Earth wieght by 1/6. We could try to solve this problem without variables. That would look something like this:\n",
    "```lua\n",
    "-- the result of this is equal to Jonathan's weight on the Moon\n",
    "400*(1/6)\n",
    "```\n",
    "\n",
    "The problem here is that we can't re-use the result of this expression. Also, the value of the Earth weight is constant. If we could change the Earth weight, then this one piece of code could be used to find the weight of *any* object on the Moon (which is a lot more useful than only being able to calculate one!).\n",
    "\n",
    "Here, we create variables to hold some of the values used by our program. This means that they can be changed (in other words, vary, as the term 'variable' would suggest) and that they can be used more than once. In the next section, we will see how the code can be modified to take the user's input for Earth weight, allowing our program to calculate the weight of any object on the Moon!"
   ]
  },
  {
   "cell_type": "code",
   "execution_count": 35,
   "metadata": {},
   "outputs": [
    {
     "name": "stdout",
     "output_type": "stream",
     "text": [
      "66.8 \n"
     ]
    }
   ],
   "source": [
    "-- create a variable to store Jonathan's weight on Earth\n",
    "-- Names are just sequences of characters. Some characters, such as spaces and quotes, can't be used in variable names because they are used for other things.\n",
    "earth_weight = 400\n",
    "\n",
    "-- calculate Jonathan's weight on the Moon (~16.7% of Earth's)\n",
    "moon_weight = earth_weight * (0.167)\n",
    "-- moon_weight = earth_weight * (1/6) -- this also works\n",
    "\n",
    "-- oh yeah, we can print variables too\n",
    "print(moon_weight)"
   ]
  },
  {
   "cell_type": "markdown",
   "metadata": {},
   "source": [
    "### Exercise 2.3: \n",
    "\n",
    "Can you calculate the weight of a 350 Earth-pound tortoise on Mars (~38% Earth's gravity)?"
   ]
  },
  {
   "cell_type": "code",
   "execution_count": 36,
   "metadata": {},
   "outputs": [
    {
     "name": "stdout",
     "output_type": "stream",
     "text": [
      "nil \n",
      "\n"
     ]
    }
   ],
   "source": [
    "-- YOU: write code that: \n",
    "-- 1. stores the Earth weight in a variable\n",
    "-- 2. calculates the Mars weight\n",
    "-- 3. stores the result of the calculation in a variable called 'mars_weight' (without the quotes)\n",
    "\n",
    "-- should output 133\n",
    "print(mars_weight)"
   ]
  },
  {
   "cell_type": "markdown",
   "metadata": {},
   "source": [
    "## 2.4 More Operators\n",
    "\n",
    "There are a few more arithmetic operators that we haven't talked about yet. Both of them have to do with division.\n",
    "\n",
    "The simplest of these is the `//` operator. It does floor division (sometimes also called integer division). Effectively, this just does division and rounds *down* (in other words, towards negative infinity). So, `13 // 4` will evaluate to 3, because 3.25 rounded down is 3. In fact `15 // 4` will also be rounded down to 3. This might seem confusing, since 3.75 is closer to 4 than to 3, but we aren't actually rounding, we're taking the floor. This is similar to rounding, but not the same. Note that `-13 // 4` and `-15 // 4` will both evaluate to -4 because -4 is lower than -3. Floor division is nice because the result is always a whole number (also called an integer).\n",
    "\n",
    "The last arithmetic operator left is the `%` operation. Despite its appearance, this one has nothing to do with percentages. It calculates the *modulus*, or remainder. When performing division, there are a few options if the numbers don't divide into each other evenly. One is to continue into the decimal places (like the `/` operator). Another is to ignore the leftovers entirely (like the `//` operator). Finally, we can take the remainder. That is what the modulus operator does -- it gives us the remainder. The modulus operator *only* gives us the remainder. If we need the quotient, we can it using `//`.\n",
    "\n",
    "If we were to calculate $ \\frac{19}{3} $ by hand using long division, we would find that $6 \\times 3$ is 18, which is the biggest multiple of 3 that's less than or equal to 19. Then, we would subtract 18 from 19 ($19 - 18 = 1$). Since we cannot fit any more 3s into the remaining value of 1, we say that the our result is 6 with a remainder of 1. `19 // 3` would give us the 3, and `19 % 3` would give us the 1."
   ]
  },
  {
   "cell_type": "markdown",
   "metadata": {},
   "source": [
    "### Example 2.4: More Operators"
   ]
  },
  {
   "cell_type": "code",
   "execution_count": 37,
   "metadata": {},
   "outputs": [
    {
     "name": "stdout",
     "output_type": "stream",
     "text": [
      "floor division (// operator) \n",
      "3 \n",
      "3 \n",
      "-4 \n",
      "-4 \n",
      "modulus (% operator) \n",
      "1 \n",
      "3 \n",
      "4 \n"
     ]
    }
   ],
   "source": [
    "-- floor division\n",
    "print('floor division (// operator)')\n",
    "print(13 // 4)\n",
    "print(15 // 4)\n",
    "\n",
    "print(-13 // 4)\n",
    "print(-15 // 4)\n",
    "\n",
    "print('modulus (% operator)')\n",
    "print(13 % 4)\n",
    "print(15 % 4)\n",
    "\n",
    "print(4 % 13) -- 4 / 13 = 0 remainder 4, so this returns 4"
   ]
  },
  {
   "cell_type": "markdown",
   "metadata": {},
   "source": [
    "### Exercise 2.4: Floor Division\n",
    "\n",
    "Let's say that you are Donkey Kong's financial advisor, and he wants you to find out how many bananas he can afford to buy with his fortune of Banana Coins (the official currency of Kong Island). Each banana costs 3 Banana Coins and there is no way to buy partial bananas.\n",
    "\n",
    "If Donkey Kong has 400 Banana Coins, how many bananas can he buy?"
   ]
  },
  {
   "cell_type": "code",
   "execution_count": 38,
   "metadata": {},
   "outputs": [
    {
     "name": "stdout",
     "output_type": "stream",
     "text": [
      "nil \n"
     ]
    }
   ],
   "source": [
    "-- YOU: calculate how many bananas Donkey Kong can buy\n",
    "-- replace the nil value in the next line\n",
    "bananas = nil\n",
    "\n",
    "-- should be equal to 133\n",
    "print(bananas)"
   ]
  },
  {
   "cell_type": "markdown",
   "metadata": {},
   "source": [
    "### Exercise 2.5: Is Even\n",
    "\n",
    "A common use of modulus is to check divisibility. If a number `x` is divisible by, for example, 3, then `x % 3` will equal 0.\n",
    "\n",
    "Using this, concept, write some code that outputs 0 if a number is even, and 1 otherwise (hint: if you're having some trouble, come up with a list of even numbers and try dividing them all and see if you can find one that divides all of them evenly)."
   ]
  },
  {
   "cell_type": "code",
   "execution_count": 39,
   "metadata": {},
   "outputs": [
    {
     "name": "stdout",
     "output_type": "stream",
     "text": [
      "nil \n"
     ]
    }
   ],
   "source": [
    "x = 17\n",
    "-- YOU: determine if x is even or odd\n",
    "even = nil\n",
    "\n",
    "-- for the default x value of 17, this should output 1\n",
    "print(even)"
   ]
  },
  {
   "cell_type": "markdown",
   "metadata": {},
   "source": [
    "## 2.5 The Lua Math Library\n",
    "You might be wondering, \"if this is all of the mathematical operators in Lua, how do we do things like square roots or sin operations?\". The answer is with functions.\n",
    "\n",
    "In programming, a \"library\" is a collection of useful functions, values, or other things that we haven't learned about yet. Essientially, they include a bunch of code that someone else (sometimes our past selves) has already written that we can use in our own programs.\n",
    "\n",
    "Most programming languages have \"standard libraries\", which are libraries that come with the language. The Lua standard library includes the `math` library, which has a bunch of common mathematical operations. If you're ever wondering how to do a mathematical operation in Lua, chances are it's already in the `math` library"
   ]
  },
  {
   "cell_type": "markdown",
   "metadata": {},
   "source": [
    "### Example 2.5: absolute value\n",
    "\n",
    "To use a library in Lua, you first have to import it. The standard library is imported automatically, so we don't have to worry about this. We'll learn about importing libraries soon, but just in case you need to do it before then, just know it's done using the `require` function.\n",
    "\n",
    "To use anything that's in the library you just need to type the name of the library, followed by a '.', followed by the name of the thing in the library you're tring to use (make sure you don't put spaces in between!). In this case, we are using the `abs` function. We'll see that function in libraries are exactly the same as the builtin ones we've been using so far."
   ]
  },
  {
   "cell_type": "code",
   "execution_count": 40,
   "metadata": {},
   "outputs": [
    {
     "name": "stdout",
     "output_type": "stream",
     "text": [
      "14 \n"
     ]
    }
   ],
   "source": [
    "x = math.abs(-14)\n",
    "-- should be positive 14\n",
    "print(x)\n"
   ]
  },
  {
   "cell_type": "code",
   "execution_count": 41,
   "metadata": {},
   "outputs": [
    {
     "name": "stdout",
     "output_type": "stream",
     "text": [
      "14 \n"
     ]
    }
   ],
   "source": [
    "\n",
    "-- this works in most programming languages\n",
    "-- however, it shouldn't, and if you do this, everyone who reads your code will swear vengeance against you and your descendants for 1,000 generations\n",
    "y = math . abs(14)\n",
    "print(y)"
   ]
  },
  {
   "cell_type": "markdown",
   "metadata": {},
   "source": [
    "### Exercise 2.6: exploring the math library\n",
    "\n",
    "Look through the documentation for `math` on the [lua users wiki](http://lua-users.org/wiki/MathLibraryTutorial), choose a function to learn about, and try using it. Don't forget to `print` the result!\n",
    "\n",
    "The library includes mathematical functions like sin and constants like pi. If the thing you choose is a constant, try to think of a possible use case for it (in the case of pi, that might be calculating the circumference of a circle given its diameter).\n",
    "\n",
    "SIDENOTE: The lua users wiki is a fairly official source of information on Lua and its standard libraries. However, there are other websites that also have useful information for Lua. You'll get a feel for which ones you like as you gain experience solving problems."
   ]
  },
  {
   "cell_type": "code",
   "execution_count": 42,
   "metadata": {},
   "outputs": [
    {
     "name": "stdout",
     "output_type": "stream",
     "text": [
      "\n"
     ]
    }
   ],
   "source": [
    "-- YOU: try using something from the Lua math library\n",
    "-- don't forget to print out the result!\n"
   ]
  },
  {
   "cell_type": "markdown",
   "metadata": {},
   "source": [
    "## 2.6 Reading the User's Input\n",
    "\n",
    "We're only missing one last piece of the puzzle to start writing some actually useful programs: user input. That way, we can write one program to solve all of one type of problem (for example, calculating the weight of *any* tortoise on the moon).\n",
    "\n",
    "We do this in Lua using `io.read`. `io.read` is a function. `io.read` will wait for the user to enter an input (type something in and the press the Enter key), and gives what was entered as the result. We can store the result in a variable just as we have with other functions."
   ]
  },
  {
   "cell_type": "markdown",
   "metadata": {},
   "source": [
    "### Example 2.6: reading user input\n",
    "\n",
    "In the following example, we ask the user to enter an animal and then print it back out. In a Jupyter notebook, this should create a dialogue box at the top of your screen.\n",
    "\n",
    "This might remind you of the `math.abs` example from earlier. That's because `io`, like `math`, is also a part of Lua's standard library (with computers, I/O is a common abbreviation for Input and Output). The `io` library has a bunch of useful stuff for reading and writing data, to/from the user as well as files."
   ]
  },
  {
   "cell_type": "code",
   "execution_count": 1,
   "metadata": {},
   "outputs": [
    {
     "name": "stdout",
     "output_type": "stream",
     "text": [
      "enter an animal \n",
      "giraffe \n"
     ]
    }
   ],
   "source": [
    "-- tell the user what they should be entering\n",
    "print(\"enter an animal\")\n",
    "-- read the user's response \n",
    "animal = io.read()\n",
    "\n",
    "print(animal)"
   ]
  },
  {
   "cell_type": "markdown",
   "metadata": {},
   "source": [
    "This returns a string, which is a sequence of characters (a character is a single letter, digit, punctuation mark, etc.). We used strings in the previous chapter to print out \"Hello World!\". Using strings in arithmetic operations presents some problems, because `\"squirrel\" * 3` does not make any sense. Where possible, Lua will try to automatically try to convert strings into numbers for us. We'll learn more about strings and numbers when we talk about data types.\n",
    "\n",
    "If we want to, we can also convert strings to numbers manually with the `tonumber` function. This function takes a string as input (inside the parenthesis, just like `print`) and returns a number.\n",
    "\n",
    "```lua\n",
    "x = \"2\" -- if the user inputs 2 into io.read, this will be the result\n",
    "print(x + 2) -- \"2\" is automatically converted to 2 before doing the addition\n",
    "\n",
    "-- manual conversion using tonumber\n",
    "x = tonumber(\"2\") -- go from \"2\" to 2\n",
    "print(x + 2) -- outputs 4\n",
    "```"
   ]
  },
  {
   "cell_type": "markdown",
   "metadata": {},
   "source": [
    "### Example 2.7: reading a number\n",
    "\n",
    "Here, we improve the code from example 2.2 to take the user's input for `earth_weight` instead of having to modify the code to use it for differnt obejects. To do this, we:\n",
    "\n",
    "1. Tell the user what they're entering (optional, but a good practice. It can make our programs much easier to use)\n",
    "2. Read the user's input and store it in the `earth_weight` variable\n",
    "3. Convert `earth_weight` into a number using the `tonumber` function & stores the result of that in `earth_weight`\n",
    "4. Do the same math as in example 2.2 to calculate the object's weight on the Moon and store that in `moon_weight`"
   ]
  },
  {
   "cell_type": "code",
   "execution_count": 44,
   "metadata": {},
   "outputs": [
    {
     "name": "stdout",
     "output_type": "stream",
     "text": [
      "Enter the weight of your tortoise on Earth:  \n",
      "Weight on earth: 12 \n",
      "Weight on the moon: 2.0 \n"
     ]
    }
   ],
   "source": [
    "-- tell the user what we are looking for\n",
    "-- not super helpful since the jupyter notebook's output is not in the same place as the input, but it's invaluable for terminal programs\n",
    "print(\"Enter the weight of your tortoise on Earth: \")\n",
    "-- read the user's input\n",
    "earth_weight = io.read()\n",
    "-- convert it to a number\n",
    "earth_weight = tonumber(earth_weight)\n",
    "\n",
    "-- calclate the moon weight\n",
    "moon_weight = earth_weight * (1/6)\n",
    "\n",
    "-- stick 2 values together to print a string and number in one go using the .. operator\n",
    "print(\"Weight on earth: \" .. earth_weight)\n",
    "print(\"Weight on the moon: \" .. moon_weight)"
   ]
  },
  {
   "cell_type": "markdown",
   "metadata": {},
   "source": [
    "TODO: add an exercise"
   ]
  },
  {
   "cell_type": "markdown",
   "metadata": {},
   "source": [
    "## 2.7 Putting It All Together\n",
    "\n",
    "At this point, we have everything we need to start making some seriously useful programs."
   ]
  },
  {
   "cell_type": "markdown",
   "metadata": {},
   "source": [
    "### Exercise 2.7: freefall\n",
    "\n",
    "Let's say that you're having fun with the Lunar gravity, holding Jonathan above your head like a superhero. But then you drop him! Let's figure out how much time you would have to catch him before he hits the ground. With constant acceleration (like with gravity) and an initial velocity of 0, and a known distnace, we can calculate the time it takes to travel that distance using the equation\n",
    "\n",
    "$ t = \\sqrt{\\frac{2 \\cdot x}{a}} $\n",
    "\n",
    "Where $x$ is the height from which the object is dropped, $a$ is the acceleration due to gravity (which, on the moon, is 1.62 m/s^2), and $t$ is the amount of time it takes to reach the ground.\n",
    "\n",
    "You are going to write code to solve this problem. It should take the height of the drop in meters as input from the user, and calculate the time required for an object to fall that distance."
   ]
  },
  {
   "cell_type": "code",
   "execution_count": 45,
   "metadata": {},
   "outputs": [
    {
     "name": "stdout",
     "output_type": "stream",
     "text": [
      "Enter the height of the drop in meters: \n",
      "Time for object to fall 12 meters: 3.8490017945975 seconds \n"
     ]
    }
   ],
   "source": [
    "-- constants\n",
    "a = 1.62 -- acceleration due to gravity\n",
    "\n",
    "print(\"Enter the height of the drop in meters:\")\n",
    "-- YOU: ask the user for their input\n",
    "x = io.read()\n",
    "\n",
    "-- YOU: do the equation in the description of the exercise\n",
    "t = math.sqrt((2*x) / a)\n",
    "\n",
    "-- for a 2 meter fall, t should be ~1.57\n",
    "print(\"Time for object to fall \" .. x .. \" meters: \" .. t .. \" seconds\")"
   ]
  }
 ],
 "metadata": {
  "kernelspec": {
   "display_name": "Lua  (XLua)",
   "language": "lua",
   "name": "xlua"
  },
  "language_info": {
   "file_extension": ".lua",
   "mimetype": "text/x-luasrc",
   "name": "lua",
   "version": "14.0.0"
  }
 },
 "nbformat": 4,
 "nbformat_minor": 2
}
